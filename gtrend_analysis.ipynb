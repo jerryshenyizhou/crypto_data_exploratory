{
 "cells": [
  {
   "cell_type": "code",
   "execution_count": 9,
   "metadata": {
    "collapsed": true
   },
   "outputs": [],
   "source": [
    "import pandas as pd\n",
    "import numpy as np\n",
    "import seaborn as sns\n",
    "import StringIO\n",
    "from matplotlib import pyplot as plt\n",
    "import datetime, time\n",
    "import os\n",
    "import json\n",
    "import requests\n",
    "# from bs4 import BeautifulSoup\n",
    "from pprint import pprint\n",
    "import pytrends as pt\n",
    "from pytrends.request import TrendReq\n",
    "\n",
    "% matplotlib inline"
   ]
  },
  {
   "cell_type": "code",
   "execution_count": 10,
   "metadata": {
    "collapsed": true
   },
   "outputs": [],
   "source": [
    "def getJSON(url):\n",
    "    start_time = time.time()\n",
    "    header = {'x-requested-with': 'XMLHttpRequest'}\n",
    "    mainPage = requests.get(url, headers = header)\n",
    "    data = mainPage.json()\n",
    "    print('Query finished in ' + str(time.time() - start_time))\n",
    "    return data"
   ]
  },
  {
   "cell_type": "code",
   "execution_count": 11,
   "metadata": {},
   "outputs": [
    {
     "name": "stdout",
     "output_type": "stream",
     "text": [
      "Query finished in 0.190631151199\n",
      "{u'NEO': u'NEO', u'BCN': u'Bytecoin', u'KMD': u'Komodo', u'BCH': u'Bitcoin Cash', u'GNT': u'Golem', u'STEEM': u'Steem', u'PAY': u'TenX', u'REP': u'Augur', u'XLM': u'Stellar Lumens', u'BAT': u'Basic Attention Token', u'BCC': u'BitConnect', u'EOS': u'EOS', u'ETC': u'Ethereum Classic', u'GAME': u'GameCredits', u'ETH': u'Ethereum', u'GNO': u'Gnosis', u'DGB': u'DigiByte', u'FCT': u'Factom', u'DGD': u'DigixDAO', u'QTUM': u'Qtum', u'STRAT': u'Stratis', u'LSK': u'Lisk', u'HSR': u'Hshare', u'PPT': u'Populous', u'DCR': u'Decred', u'GBYTE': u'Byteball', u'ICN': u'Iconomi', u'NXS': u'Nexus', u'ZEC': u'Zcash', u'DASH': u'Dash', u'MCAP': u'MCAP', u'MIOTA': u'IOTA', u'MTL': u'Metal', u'VERI': u'Veritaseum', u'USDT': u'Tether', u'XRP': u'Ripple', u'XMR': u'Monero', u'BTCD': u'BitcoinDark', u'LTC': u'Litecoin', u'OMG': u'OmiseGO', u'BTS': u'BitShares', u'XEM': u'NEM', u'DOGE': u'Dogecoin', u'PIVX': u'PIVX', u'SYS': u'Syscoin', u'MAID': u'MaidSafeCoin', u'BTC': u'Bitcoin', u'WAVES': u'Waves', u'SC': u'Siacoin', u'ARK': u'Ark'}\n"
     ]
    }
   ],
   "source": [
    "#get CMC Symbol Info from API\n",
    "try:\n",
    "    data = getJSON(\"https://api.coinmarketcap.com/v1/ticker/\")\n",
    "except ValueError:\n",
    "    print \"CMC API Not Responding\"\n",
    "\n",
    "#write to dictionary\n",
    "token_dict = {}\n",
    "\n",
    "for x in range (0,50):\n",
    "    token_dict[data[x]['symbol']] = data[x]['name']\n",
    "\n",
    "\n",
    "print token_dict"
   ]
  },
  {
   "cell_type": "code",
   "execution_count": 12,
   "metadata": {
    "collapsed": true
   },
   "outputs": [],
   "source": [
    "token_dict['XRP']='XRP'\n"
   ]
  },
  {
   "cell_type": "code",
   "execution_count": null,
   "metadata": {
    "collapsed": true
   },
   "outputs": [],
   "source": []
  },
  {
   "cell_type": "code",
   "execution_count": 13,
   "metadata": {},
   "outputs": [
    {
     "name": "stdout",
     "output_type": "stream",
     "text": [
      "Query finished in 1.43336701393\n"
     ]
    }
   ],
   "source": [
    "token1 = 'LTC'\n",
    "token2 = 'BTC'\n",
    "\n",
    "#Get Historical Price Data\n",
    "search_url = 'https://min-api.cryptocompare.com/data/histoday?fsym='+token1+'&tsym='+token2+'&limit=2000&aggregate=1&e=CCCAGG'\n",
    "result = getJSON(search_url)"
   ]
  },
  {
   "cell_type": "code",
   "execution_count": 14,
   "metadata": {
    "collapsed": true
   },
   "outputs": [],
   "source": [
    "def get_price_data(token1, token2):\n",
    "    search_url = 'https://min-api.cryptocompare.com/data/histoday?fsym='+token1+'&tsym='+token2+'&limit=2000&aggregate=1&e=CCCAGG'\n",
    "    result = getJSON(search_url)\n",
    "    price_data = pd.DataFrame(result['Data'])\n",
    "    price_data['date'] = pd.to_datetime(price_data['time'],unit='s')\n",
    "    price_data = price_data.set_index('date')\n",
    "    return(price_data['close'])\n",
    "\n",
    "def get_index_data(token1, token2):\n",
    "    pytrend.build_payload([token_dict[token1],token_dict[token2]], cat=0, timeframe='today 5-y', geo='', gprop='')\n",
    "    google_index_data = pytrend.interest_over_time()\n",
    "    google_index_data['index_exchange'] = google_index_data[token_dict[token1]]/google_index_data[token_dict[token2]]\n",
    "    return(google_index_data['index_exchange'])"
   ]
  },
  {
   "cell_type": "code",
   "execution_count": null,
   "metadata": {
    "collapsed": true
   },
   "outputs": [],
   "source": []
  },
  {
   "cell_type": "code",
   "execution_count": 15,
   "metadata": {},
   "outputs": [
    {
     "name": "stdout",
     "output_type": "stream",
     "text": [
      "Query finished in 0.86176609993\n"
     ]
    },
    {
     "data": {
      "text/plain": [
       "date\n",
       "2017-09-04    0.01582\n",
       "2017-09-05    0.01671\n",
       "2017-09-06    0.01766\n",
       "2017-09-07    0.01736\n",
       "2017-09-08    0.01668\n",
       "Name: close, dtype: float64"
      ]
     },
     "execution_count": 15,
     "metadata": {},
     "output_type": "execute_result"
    }
   ],
   "source": [
    "get_price_data(token1,token2).tail()"
   ]
  },
  {
   "cell_type": "code",
   "execution_count": 16,
   "metadata": {
    "collapsed": true
   },
   "outputs": [],
   "source": [
    "price_data = pd.DataFrame(result['Data'])\n",
    "price_data['date'] = pd.to_datetime(price_data['time'],unit='s')\n",
    "price_data = price_data.set_index('date')"
   ]
  },
  {
   "cell_type": "code",
   "execution_count": 17,
   "metadata": {},
   "outputs": [
    {
     "data": {
      "text/plain": [
       "Timestamp('2013-09-29 00:00:00')"
      ]
     },
     "execution_count": 17,
     "metadata": {},
     "output_type": "execute_result"
    }
   ],
   "source": [
    "(price_data[price_data.close>0]).index.min()"
   ]
  },
  {
   "cell_type": "code",
   "execution_count": 18,
   "metadata": {
    "collapsed": true
   },
   "outputs": [],
   "source": [
    "pytrend = TrendReq()\n",
    "pytrend.build_payload([token_dict[token1],token_dict[token2]], cat=0, timeframe='today 5-y', geo='', gprop='')\n",
    "google_index_data = pytrend.interest_over_time()\n",
    "\n",
    "# pytrend.build_payload([token_dict[token1],token_dict[token2]], cat=0, timeframe='now 7-d', geo='', gprop='')\n",
    "# google_index_data_extend = pytrend.interest_over_time()\n",
    "\n",
    "# google_index_data = google_index_data.append(google_index_data_extend)"
   ]
  },
  {
   "cell_type": "code",
   "execution_count": null,
   "metadata": {
    "collapsed": true
   },
   "outputs": [],
   "source": []
  },
  {
   "cell_type": "code",
   "execution_count": null,
   "metadata": {
    "collapsed": true
   },
   "outputs": [],
   "source": []
  },
  {
   "cell_type": "code",
   "execution_count": 19,
   "metadata": {
    "collapsed": true
   },
   "outputs": [],
   "source": [
    "# truncate data\n",
    "date_start = datetime.datetime(2017,1,1)\n",
    "date_start = max((price_data[price_data.close>0]).index.min(),date_start)\n",
    "price_data_trunc = price_data[price_data.index>=date_start]\n",
    "google_index_data_trunc = (google_index_data[google_index_data.index>=date_start]).copy()\n",
    "google_index_data_trunc['index_exchange'] = google_index_data_trunc[token_dict[token1]]/google_index_data_trunc[token_dict[token2]]"
   ]
  },
  {
   "cell_type": "code",
   "execution_count": 20,
   "metadata": {
    "collapsed": true
   },
   "outputs": [],
   "source": [
    "google_index_adjustment_rate = price_data_trunc['close'].mean()/google_index_data_trunc['index_exchange'].mean()"
   ]
  },
  {
   "cell_type": "code",
   "execution_count": null,
   "metadata": {
    "collapsed": true
   },
   "outputs": [],
   "source": []
  },
  {
   "cell_type": "code",
   "execution_count": 21,
   "metadata": {},
   "outputs": [
    {
     "data": {
      "text/plain": [
       "<matplotlib.text.Text at 0x111bf5750>"
      ]
     },
     "execution_count": 21,
     "metadata": {},
     "output_type": "execute_result"
    },
    {
     "data": {
      "image/png": "[encoded data removed]",
      "text/plain": [
       "<matplotlib.figure.Figure at 0x111bc4a50>"
      ]
     },
     "metadata": {},
     "output_type": "display_data"
    }
   ],
   "source": [
    "(price_data_trunc['close']).plot(label=token1+'_'+token2+'_\\nexchange_rate')\n",
    "(google_index_data_trunc['index_exchange']*google_index_adjustment_rate).plot(label=token_dict[token1]+'_'+token_dict[token2]+'_\\ngoogle_index_ratio_adjusted')\n",
    "plt.legend(loc='center left', bbox_to_anchor=(1, 0.5))\n",
    "plt.title(token1+' vs '+token2+'\\ngoogle_index_inflation:'+str(round(google_index_adjustment_rate,6)))\n",
    "# plt.annotate()"
   ]
  },
  {
   "cell_type": "code",
   "execution_count": 22,
   "metadata": {
    "collapsed": true
   },
   "outputs": [],
   "source": [
    "price_back_testing = price_data_trunc['close']\n",
    "gindex_back_testing = google_index_data_trunc['index_exchange']"
   ]
  },
  {
   "cell_type": "code",
   "execution_count": 24,
   "metadata": {
    "collapsed": true
   },
   "outputs": [],
   "source": [
    "index_change_trigger = 1.5\n",
    "\n",
    "# just correlation code\n",
    "shift_period_in_days = -7\n",
    "shift_data = pd.concat([price_back_testing.shift(shift_period_in_days),gindex_back_testing],axis=1).dropna()\n",
    "correlation = shift_data.corr().iloc[1,0]\n",
    "\n",
    "# back testing code\n",
    "index_change = gindex_back_testing/gindex_back_testing.shift(1)\n",
    "buy_points = index_change[index_change>=index_change_trigger]\n",
    "buy_price = price_back_testing[price_back_testing.index.isin(buy_points.index)]\n",
    "\n",
    "buy_return_data = pd.DataFrame(columns=buy_points.index,index=price_back_testing.index)\n",
    "for (i,j) in buy_price.iteritems():\n",
    "    buy_return_data[i] = price_back_testing[price_back_testing.index>=i]/j\n",
    "\n",
    "trading_performance  = pd.DataFrame(index=buy_points.index, columns=['buy_price','sell_point','sell_price'])\n",
    "sell_threshold_upper = 1.2\n",
    "sell_threshold_lower = 0.85\n",
    "\n",
    "for trade_series in buy_return_data.columns:\n",
    "    buy_series = buy_return_data[trade_series]\n",
    "    sell_point = min(pd.Series([buy_series[buy_series>=sell_threshold_upper].index.min(),buy_series[buy_series<=sell_threshold_lower].index.min(),price_back_testing.index.max()]).dropna())\n",
    "    sell_price = price_back_testing[sell_point]\n",
    "    trading_performance.loc[trade_series,'buy_price'] = price_back_testing[trade_series]\n",
    "    trading_performance.loc[trade_series,'sell_point'] = sell_point\n",
    "    trading_performance.loc[trade_series,'sell_price'] = sell_price"
   ]
  },
  {
   "cell_type": "code",
   "execution_count": null,
   "metadata": {
    "collapsed": true
   },
   "outputs": [],
   "source": []
  },
  {
   "cell_type": "code",
   "execution_count": 25,
   "metadata": {},
   "outputs": [
    {
     "data": {
      "text/plain": [
       "date\n",
       "2017-03-26    0.004236\n",
       "2017-04-30    0.011730\n",
       "2017-06-04    0.011020\n",
       "2017-07-02    0.016530\n",
       "2017-08-20    0.011270\n",
       "2017-08-27    0.013960\n",
       "Name: close, dtype: float64"
      ]
     },
     "execution_count": 25,
     "metadata": {},
     "output_type": "execute_result"
    }
   ],
   "source": [
    "price_back_testing[price_back_testing.index.isin(buy_points.index)]"
   ]
  },
  {
   "cell_type": "code",
   "execution_count": 26,
   "metadata": {},
   "outputs": [
    {
     "data": {
      "text/plain": [
       "date\n",
       "2017-03-26     1.7474\n",
       "2017-04-30    1.20887\n",
       "2017-06-04    1.24319\n",
       "2017-07-02    1.28191\n",
       "2017-08-20    1.23869\n",
       "2017-08-27    1.27579\n",
       "dtype: object"
      ]
     },
     "execution_count": 26,
     "metadata": {},
     "output_type": "execute_result"
    }
   ],
   "source": [
    "trading_performance['sell_price']/trading_performance['buy_price']"
   ]
  },
  {
   "cell_type": "code",
   "execution_count": null,
   "metadata": {
    "collapsed": true
   },
   "outputs": [],
   "source": []
  },
  {
   "cell_type": "code",
   "execution_count": 419,
   "metadata": {},
   "outputs": [
    {
     "data": {
      "text/plain": [
       "array([Timestamp('2017-09-01 00:00:00'), NaT], dtype=object)"
      ]
     },
     "execution_count": 419,
     "metadata": {},
     "output_type": "execute_result"
    }
   ],
   "source": [
    "np.array([buy_series[buy_series>=sell_threshold_upper].index.min(),buy_series[buy_series<=sell_threshold_lower].index.min()])"
   ]
  },
  {
   "cell_type": "code",
   "execution_count": 420,
   "metadata": {},
   "outputs": [
    {
     "data": {
      "text/plain": [
       "date\n",
       "2017-03-12         inf\n",
       "2017-03-26         inf\n",
       "2017-06-04    2.295082\n",
       "2017-07-02    1.666667\n",
       "2017-08-20    1.687764\n",
       "2017-08-27    1.903614\n",
       "Name: index_exchange, dtype: float64"
      ]
     },
     "execution_count": 420,
     "metadata": {},
     "output_type": "execute_result"
    }
   ],
   "source": [
    "buy_points"
   ]
  },
  {
   "cell_type": "code",
   "execution_count": null,
   "metadata": {
    "collapsed": true
   },
   "outputs": [],
   "source": []
  },
  {
   "cell_type": "code",
   "execution_count": 421,
   "metadata": {},
   "outputs": [
    {
     "data": {
      "text/plain": [
       "Timestamp('2017-09-01 00:00:00')"
      ]
     },
     "execution_count": 421,
     "metadata": {},
     "output_type": "execute_result"
    }
   ],
   "source": [
    "sell_point"
   ]
  },
  {
   "cell_type": "code",
   "execution_count": 422,
   "metadata": {
    "collapsed": true
   },
   "outputs": [],
   "source": []
  },
  {
   "cell_type": "code",
   "execution_count": null,
   "metadata": {
    "collapsed": true
   },
   "outputs": [],
   "source": []
  },
  {
   "cell_type": "code",
   "execution_count": 27,
   "metadata": {},
   "outputs": [
    {
     "data": {
      "text/html": [
       "<div>\n",
       "<style>\n",
       "    .dataframe thead tr:only-child th {\n",
       "        text-align: right;\n",
       "    }\n",
       "\n",
       "    .dataframe thead th {\n",
       "        text-align: left;\n",
       "    }\n",
       "\n",
       "    .dataframe tbody tr th {\n",
       "        vertical-align: top;\n",
       "    }\n",
       "</style>\n",
       "<table border=\"1\" class=\"dataframe\">\n",
       "  <thead>\n",
       "    <tr style=\"text-align: right;\">\n",
       "      <th></th>\n",
       "      <th>buy_price</th>\n",
       "      <th>sell_point</th>\n",
       "      <th>sell_price</th>\n",
       "    </tr>\n",
       "    <tr>\n",
       "      <th>date</th>\n",
       "      <th></th>\n",
       "      <th></th>\n",
       "      <th></th>\n",
       "    </tr>\n",
       "  </thead>\n",
       "  <tbody>\n",
       "    <tr>\n",
       "      <th>2017-03-26</th>\n",
       "      <td>0.004236</td>\n",
       "      <td>2017-03-30 00:00:00</td>\n",
       "      <td>0.007402</td>\n",
       "    </tr>\n",
       "    <tr>\n",
       "      <th>2017-04-30</th>\n",
       "      <td>0.01173</td>\n",
       "      <td>2017-05-03 00:00:00</td>\n",
       "      <td>0.01418</td>\n",
       "    </tr>\n",
       "    <tr>\n",
       "      <th>2017-06-04</th>\n",
       "      <td>0.01102</td>\n",
       "      <td>2017-06-16 00:00:00</td>\n",
       "      <td>0.0137</td>\n",
       "    </tr>\n",
       "    <tr>\n",
       "      <th>2017-07-02</th>\n",
       "      <td>0.01653</td>\n",
       "      <td>2017-07-04 00:00:00</td>\n",
       "      <td>0.02119</td>\n",
       "    </tr>\n",
       "    <tr>\n",
       "      <th>2017-08-20</th>\n",
       "      <td>0.01127</td>\n",
       "      <td>2017-08-27 00:00:00</td>\n",
       "      <td>0.01396</td>\n",
       "    </tr>\n",
       "    <tr>\n",
       "      <th>2017-08-27</th>\n",
       "      <td>0.01396</td>\n",
       "      <td>2017-09-01 00:00:00</td>\n",
       "      <td>0.01781</td>\n",
       "    </tr>\n",
       "  </tbody>\n",
       "</table>\n",
       "</div>"
      ],
      "text/plain": [
       "           buy_price           sell_point sell_price\n",
       "date                                                \n",
       "2017-03-26  0.004236  2017-03-30 00:00:00   0.007402\n",
       "2017-04-30   0.01173  2017-05-03 00:00:00    0.01418\n",
       "2017-06-04   0.01102  2017-06-16 00:00:00     0.0137\n",
       "2017-07-02   0.01653  2017-07-04 00:00:00    0.02119\n",
       "2017-08-20   0.01127  2017-08-27 00:00:00    0.01396\n",
       "2017-08-27   0.01396  2017-09-01 00:00:00    0.01781"
      ]
     },
     "execution_count": 27,
     "metadata": {},
     "output_type": "execute_result"
    }
   ],
   "source": [
    "trading_performance"
   ]
  },
  {
   "cell_type": "code",
   "execution_count": 424,
   "metadata": {},
   "outputs": [
    {
     "data": {
      "text/plain": [
       "date\n",
       "2017-03-12    1.21557\n",
       "2017-03-26     1.7474\n",
       "2017-06-04    1.24319\n",
       "2017-07-02    1.28191\n",
       "2017-08-20    1.23869\n",
       "2017-08-27    1.27579\n",
       "dtype: object"
      ]
     },
     "execution_count": 424,
     "metadata": {},
     "output_type": "execute_result"
    }
   ],
   "source": [
    "trading_performance['sell_price']/trading_performance['buy_price']"
   ]
  },
  {
   "cell_type": "code",
   "execution_count": 23,
   "metadata": {},
   "outputs": [
    {
     "ename": "NameError",
     "evalue": "name 'trading_performance' is not defined",
     "output_type": "error",
     "traceback": [
      "\u001b[0;31m-----------------------------------------------\u001b[0m",
      "\u001b[0;31mNameError\u001b[0m     Traceback (most recent call last)",
      "\u001b[0;32m<ipython-input-23-5d443885fd16>\u001b[0m in \u001b[0;36m<module>\u001b[0;34m()\u001b[0m\n\u001b[0;32m----> 1\u001b[0;31m \u001b[0;32mfor\u001b[0m \u001b[0mtrade_series\u001b[0m \u001b[0;32min\u001b[0m \u001b[0mtrading_performance\u001b[0m\u001b[0;34m.\u001b[0m\u001b[0mindex\u001b[0m\u001b[0;34m:\u001b[0m\u001b[0;34m\u001b[0m\u001b[0m\n\u001b[0m\u001b[1;32m      2\u001b[0m     \u001b[0mbuy_price\u001b[0m\u001b[0;34m,\u001b[0m\u001b[0msell_point\u001b[0m\u001b[0;34m,\u001b[0m\u001b[0msell_price\u001b[0m \u001b[0;34m=\u001b[0m \u001b[0mtrading_performance\u001b[0m\u001b[0;34m.\u001b[0m\u001b[0mloc\u001b[0m\u001b[0;34m[\u001b[0m\u001b[0mtrade_series\u001b[0m\u001b[0;34m]\u001b[0m\u001b[0;34m\u001b[0m\u001b[0m\n\u001b[1;32m      3\u001b[0m     \u001b[0mbuy_return_data\u001b[0m\u001b[0;34m[\u001b[0m\u001b[0mbuy_return_data\u001b[0m\u001b[0;34m.\u001b[0m\u001b[0mindex\u001b[0m\u001b[0;34m<=\u001b[0m\u001b[0msell_point\u001b[0m\u001b[0;34m]\u001b[0m\u001b[0;34m[\u001b[0m\u001b[0mtrade_series\u001b[0m\u001b[0;34m]\u001b[0m\u001b[0;34m.\u001b[0m\u001b[0mdropna\u001b[0m\u001b[0;34m(\u001b[0m\u001b[0;34m)\u001b[0m\u001b[0;34m.\u001b[0m\u001b[0mplot\u001b[0m\u001b[0;34m(\u001b[0m\u001b[0;34m)\u001b[0m\u001b[0;34m\u001b[0m\u001b[0m\n",
      "\u001b[0;31mNameError\u001b[0m: name 'trading_performance' is not defined"
     ]
    }
   ],
   "source": [
    "for trade_series in trading_performance.index:\n",
    "    buy_price,sell_point,sell_price = trading_performance.loc[trade_series]\n",
    "    buy_return_data[buy_return_data.index<=sell_point][trade_series].dropna().plot()"
   ]
  },
  {
   "cell_type": "code",
   "execution_count": null,
   "metadata": {
    "collapsed": true
   },
   "outputs": [],
   "source": []
  },
  {
   "cell_type": "code",
   "execution_count": null,
   "metadata": {
    "collapsed": true
   },
   "outputs": [],
   "source": []
  },
  {
   "cell_type": "code",
   "execution_count": null,
   "metadata": {
    "collapsed": true
   },
   "outputs": [],
   "source": []
  },
  {
   "cell_type": "code",
   "execution_count": null,
   "metadata": {
    "collapsed": true
   },
   "outputs": [],
   "source": []
  },
  {
   "cell_type": "code",
   "execution_count": 632,
   "metadata": {
    "collapsed": true
   },
   "outputs": [],
   "source": [
    "import pandas as pd\n",
    "import numpy as np\n",
    "import scipy\n",
    "import datetime\n",
    "\n",
    "import matplotlib.pyplot as plt\n",
    "\n",
    "import copy\n",
    "\n",
    "from jinja2 import Environment, FileSystemLoader\n",
    "\n",
    "\n",
    "\n",
    "class CryptoBacktesting(object):\n",
    "    \"\"\"Class for analyzing crypto_currencies. \n",
    "\n",
    "    The idea here is to provide a way to intelligently trade crypto currencies using signals,   \n",
    "\n",
    "    \"\"\"\n",
    "    def __init__(\n",
    "        self,\n",
    "        price_back_testing,\n",
    "        gindex_back_testing,\n",
    "        index_change_trigger,\n",
    "        sell_threshold_upper=1.2,\n",
    "        sell_threshold_lower=0.85,\n",
    "        \n",
    "    ):\n",
    "        \"\"\"Class constructor\n",
    "\n",
    "        Args:\n",
    "\n",
    "        \"\"\"\n",
    "        self.price_back_testing = price_back_testing\n",
    "        self.gindex_back_testing = gindex_back_testing\n",
    "        self.index_change_trigger = index_change_trigger\n",
    "        self.sell_threshold_upper = sell_threshold_upper\n",
    "        self.sell_threshold_lower = sell_threshold_lower\n",
    "\n",
    "        self.process_back_testing()\n",
    "\n",
    "\n",
    "    def process_back_testing(self):\n",
    "\n",
    "\n",
    "        index_change = gindex_back_testing/gindex_back_testing.shift(1)\n",
    "        buy_points = index_change[index_change>=index_change_trigger]\n",
    "        buy_price = price_back_testing[price_back_testing.index.isin(buy_points.index)]\n",
    "        \n",
    "        self.buy_return_data = pd.DataFrame(columns=buy_points.index,index=price_back_testing.index)\n",
    "        for (i,j) in buy_price.iteritems():\n",
    "            self.buy_return_data[i] = price_back_testing[price_back_testing.index>=i]/j\n",
    "        \n",
    "        self.trading_performance  = pd.DataFrame(index=buy_points.index, columns=['buy_price','sell_point','sell_price'])\n",
    "        \n",
    "        for trade_series in self.buy_return_data.columns:\n",
    "            buy_series = self.buy_return_data[trade_series]\n",
    "            sell_point = min(pd.Series([buy_series[buy_series>=sell_threshold_upper].index.min(),buy_series[buy_series<=sell_threshold_lower].index.min(),price_back_testing.index.max()]).dropna())\n",
    "            sell_price = price_back_testing[sell_point]\n",
    "            self.trading_performance.loc[trade_series,'buy_price'] = price_back_testing[trade_series]\n",
    "            self.trading_performance.loc[trade_series,'sell_point'] = sell_point\n",
    "            self.trading_performance.loc[trade_series,'sell_price'] = sell_price\n",
    "            self.trading_performance['return'] = self.trading_performance['sell_price']/self.trading_performance['buy_price']\n",
    "            self.total_return = self.trading_performance['return'].product()\n",
    "            self.trading_times = self.trading_performance['buy_price'].count()"
   ]
  },
  {
   "cell_type": "code",
   "execution_count": 731,
   "metadata": {},
   "outputs": [
    {
     "name": "stdout",
     "output_type": "stream",
     "text": [
      "{u'NEO': u'NEO', u'BCN': u'Bytecoin', u'KMD': u'Komodo', u'BCH': u'Bitcoin Cash', u'GNT': u'Golem', u'STEEM': u'Steem', u'PAY': u'TenX', u'REP': u'Augur', u'XLM': u'Stellar Lumens', u'BAT': u'Basic Attention Token', u'BCC': u'BitConnect', u'EOS': u'EOS', u'ETC': u'Ethereum Classic', u'ETH': u'Ethereum', u'GNO': u'Gnosis', u'DGB': u'DigiByte', u'FCT': u'Factom', u'DGD': u'DigixDAO', u'QTUM': u'Qtum', u'STRAT': u'Stratis', u'LSK': u'Lisk', u'CVC': u'Civic', u'HSR': u'Hshare', u'PPT': u'Populous', u'DCR': u'Decred', u'GBYTE': u'Byteball', u'ICN': u'Iconomi', u'NXS': u'Nexus', u'ZEC': u'Zcash', u'DASH': u'Dash', u'MCAP': u'MCAP', u'MIOTA': u'IOTA', u'MTL': u'Metal', u'VERI': u'Veritaseum', u'USDT': u'Tether', u'XRP': 'XRP', u'XMR': u'Monero', u'BTCD': u'BitcoinDark', u'LTC': u'Litecoin', u'OMG': u'OmiseGO', u'BTS': u'BitShares', u'XEM': u'NEM', u'DOGE': u'Dogecoin', u'PIVX': u'PIVX', u'SYS': u'Syscoin', u'MAID': u'MaidSafeCoin', u'BTC': u'Bitcoin', u'WAVES': u'Waves', u'SC': u'Siacoin', u'ARK': u'Ark'}\n"
     ]
    }
   ],
   "source": [
    "print token_dict"
   ]
  },
  {
   "cell_type": "code",
   "execution_count": 7,
   "metadata": {},
   "outputs": [
    {
     "ename": "NameError",
     "evalue": "name 'get_price_data' is not defined",
     "output_type": "error",
     "traceback": [
      "\u001b[0;31m-----------------------------------------------\u001b[0m",
      "\u001b[0;31mNameError\u001b[0m     Traceback (most recent call last)",
      "\u001b[0;32m<ipython-input-7-14841bf2b860>\u001b[0m in \u001b[0;36m<module>\u001b[0;34m()\u001b[0m\n\u001b[1;32m      2\u001b[0m \u001b[0mtoken2\u001b[0m \u001b[0;34m=\u001b[0m \u001b[0;34m'BTC'\u001b[0m\u001b[0;34m\u001b[0m\u001b[0m\n\u001b[1;32m      3\u001b[0m \u001b[0;34m\u001b[0m\u001b[0m\n\u001b[0;32m----> 4\u001b[0;31m \u001b[0mprice_data\u001b[0m \u001b[0;34m=\u001b[0m \u001b[0mget_price_data\u001b[0m\u001b[0;34m(\u001b[0m\u001b[0mtoken1\u001b[0m\u001b[0;34m,\u001b[0m\u001b[0mtoken2\u001b[0m\u001b[0;34m)\u001b[0m\u001b[0;34m\u001b[0m\u001b[0m\n\u001b[0m\u001b[1;32m      5\u001b[0m \u001b[0mgindex_data\u001b[0m \u001b[0;34m=\u001b[0m \u001b[0mget_index_data\u001b[0m\u001b[0;34m(\u001b[0m\u001b[0mtoken1\u001b[0m\u001b[0;34m,\u001b[0m\u001b[0mtoken2\u001b[0m\u001b[0;34m)\u001b[0m\u001b[0;34m\u001b[0m\u001b[0m\n\u001b[1;32m      6\u001b[0m \u001b[0;34m\u001b[0m\u001b[0m\n",
      "\u001b[0;31mNameError\u001b[0m: name 'get_price_data' is not defined"
     ]
    }
   ],
   "source": [
    "token1 = 'LTC'\n",
    "token2 = 'BTC'\n",
    "\n",
    "price_data = get_price_data(token1,token2)\n",
    "gindex_data = get_index_data(token1,token2)\n",
    "\n",
    "date_trunc_price = price_data[price_data>0].index.min()\n",
    "date_trunc_gindex = gindex_data[gindex_data>0].index.min()\n",
    "date_trunc = max(date_trunc_price,date_trunc_gindex)\n",
    "\n",
    "price_back_testing = price_data[price_data.index>=date_trunc]\n",
    "gindex_back_testing = gindex_data[gindex_data.index>=date_trunc]\n",
    "\n",
    "crypto_test = CryptoBacktesting(price_back_testing=price_back_testing, gindex_back_testing=gindex_back_testing,index_change_trigger=1.5)"
   ]
  },
  {
   "cell_type": "code",
   "execution_count": 736,
   "metadata": {},
   "outputs": [
    {
     "data": {
      "text/html": [
       "<div>\n",
       "<table border=\"1\" class=\"dataframe\">\n",
       "  <thead>\n",
       "    <tr style=\"text-align: right;\">\n",
       "      <th></th>\n",
       "      <th>buy_price</th>\n",
       "      <th>sell_point</th>\n",
       "      <th>sell_price</th>\n",
       "      <th>return</th>\n",
       "    </tr>\n",
       "    <tr>\n",
       "      <th>date</th>\n",
       "      <th></th>\n",
       "      <th></th>\n",
       "      <th></th>\n",
       "      <th></th>\n",
       "    </tr>\n",
       "  </thead>\n",
       "  <tbody>\n",
       "    <tr>\n",
       "      <th>2017-05-28</th>\n",
       "      <td>3.12e-06</td>\n",
       "      <td>2017-06-02 00:00:00</td>\n",
       "      <td>4.03e-06</td>\n",
       "      <td>1.29167</td>\n",
       "    </tr>\n",
       "    <tr>\n",
       "      <th>2017-06-18</th>\n",
       "      <td>6.18e-06</td>\n",
       "      <td>2017-06-22 00:00:00</td>\n",
       "      <td>7.44e-06</td>\n",
       "      <td>1.20388</td>\n",
       "    </tr>\n",
       "  </tbody>\n",
       "</table>\n",
       "</div>"
      ],
      "text/plain": [
       "           buy_price           sell_point sell_price   return\n",
       "date                                                         \n",
       "2017-05-28  3.12e-06  2017-06-02 00:00:00   4.03e-06  1.29167\n",
       "2017-06-18  6.18e-06  2017-06-22 00:00:00   7.44e-06  1.20388"
      ]
     },
     "execution_count": 736,
     "metadata": {},
     "output_type": "execute_result"
    }
   ],
   "source": [
    "crypto_test.trading_performance"
   ]
  },
  {
   "cell_type": "code",
   "execution_count": null,
   "metadata": {
    "collapsed": true
   },
   "outputs": [],
   "source": [
    "crypto_test"
   ]
  },
  {
   "cell_type": "code",
   "execution_count": 6,
   "metadata": {
    "collapsed": true
   },
   "outputs": [],
   "source": [
    "data_aggregate = pd.DataFrame(index=token_dict.keys(), columns=['total_return','trading_times','trading_available_days','return_per_day'])\n",
    "for token1 in token_dict.keys():\n",
    "    try:\n",
    "#     token1 = 'LTC'\n",
    "        token2 = 'BTC'\n",
    "    \n",
    "        price_data = get_price_data(token1,token2)\n",
    "        gindex_data = get_index_data(token1,token2)\n",
    "        \n",
    "        date_trunc_price = price_data[price_data>0].index.min()\n",
    "        date_trunc_gindex = gindex_data[gindex_data>0].index.min()\n",
    "        date_trunc = max(date_trunc_price,date_trunc_gindex,datetime.datetime(2017,1,1))\n",
    "#         date_trunc = max(date_trunc_price,date_trunc_gindex)\n",
    "        \n",
    "        price_back_testing = price_data[price_data.index>=date_trunc]\n",
    "        gindex_back_testing = gindex_data[gindex_data.index>=date_trunc]\n",
    "        \n",
    "        crypto_test = CryptoBacktesting(price_back_testing=price_back_testing, gindex_back_testing=gindex_back_testing,index_change_trigger=1.5)\n",
    "        data_aggregate.loc[token1,'total_return'] = crypto_test.total_return\n",
    "        data_aggregate.loc[token1,'trading_times'] = crypto_test.trading_times\n",
    "        data_aggregate.loc[token1,'trading_available_days'] = (datetime.datetime.today() - date_trunc).days\n",
    "#         data_aggregate.loc[token1,'APR'] = crypto_test.total_return**(365/((datetime.datetime.today() - date_trunc_price).days))\n",
    "    except:\n",
    "        pass"
   ]
  },
  {
   "cell_type": "code",
   "execution_count": null,
   "metadata": {
    "collapsed": true
   },
   "outputs": [],
   "source": []
  },
  {
   "cell_type": "code",
   "execution_count": null,
   "metadata": {
    "collapsed": true
   },
   "outputs": [],
   "source": []
  },
  {
   "cell_type": "code",
   "execution_count": 724,
   "metadata": {},
   "outputs": [
    {
     "data": {
      "text/html": [
       "<div>\n",
       "<table border=\"1\" class=\"dataframe\">\n",
       "  <thead>\n",
       "    <tr style=\"text-align: right;\">\n",
       "      <th></th>\n",
       "      <th>total_return</th>\n",
       "      <th>trading_times</th>\n",
       "      <th>trading_available_days</th>\n",
       "      <th>return_per_day</th>\n",
       "    </tr>\n",
       "  </thead>\n",
       "  <tbody>\n",
       "    <tr>\n",
       "      <th>LTC</th>\n",
       "      <td>5.22067</td>\n",
       "      <td>6</td>\n",
       "      <td>247</td>\n",
       "      <td>NaN</td>\n",
       "    </tr>\n",
       "    <tr>\n",
       "      <th>ETH</th>\n",
       "      <td>2.57199</td>\n",
       "      <td>4</td>\n",
       "      <td>247</td>\n",
       "      <td>NaN</td>\n",
       "    </tr>\n",
       "    <tr>\n",
       "      <th>XRP</th>\n",
       "      <td>2.27711</td>\n",
       "      <td>3</td>\n",
       "      <td>156</td>\n",
       "      <td>NaN</td>\n",
       "    </tr>\n",
       "    <tr>\n",
       "      <th>STEEM</th>\n",
       "      <td>1.86581</td>\n",
       "      <td>3</td>\n",
       "      <td>247</td>\n",
       "      <td>NaN</td>\n",
       "    </tr>\n",
       "    <tr>\n",
       "      <th>ETC</th>\n",
       "      <td>1.64737</td>\n",
       "      <td>2</td>\n",
       "      <td>247</td>\n",
       "      <td>NaN</td>\n",
       "    </tr>\n",
       "    <tr>\n",
       "      <th>SC</th>\n",
       "      <td>1.55502</td>\n",
       "      <td>2</td>\n",
       "      <td>107</td>\n",
       "      <td>NaN</td>\n",
       "    </tr>\n",
       "    <tr>\n",
       "      <th>PAY</th>\n",
       "      <td>1.52855</td>\n",
       "      <td>1</td>\n",
       "      <td>79</td>\n",
       "      <td>NaN</td>\n",
       "    </tr>\n",
       "    <tr>\n",
       "      <th>ARK</th>\n",
       "      <td>1.46083</td>\n",
       "      <td>1</td>\n",
       "      <td>167</td>\n",
       "      <td>NaN</td>\n",
       "    </tr>\n",
       "    <tr>\n",
       "      <th>ZEC</th>\n",
       "      <td>1.34344</td>\n",
       "      <td>3</td>\n",
       "      <td>247</td>\n",
       "      <td>NaN</td>\n",
       "    </tr>\n",
       "    <tr>\n",
       "      <th>NXS</th>\n",
       "      <td>1.28492</td>\n",
       "      <td>1</td>\n",
       "      <td>247</td>\n",
       "      <td>NaN</td>\n",
       "    </tr>\n",
       "    <tr>\n",
       "      <th>DASH</th>\n",
       "      <td>1.25686</td>\n",
       "      <td>1</td>\n",
       "      <td>247</td>\n",
       "      <td>NaN</td>\n",
       "    </tr>\n",
       "    <tr>\n",
       "      <th>NEO</th>\n",
       "      <td>1.24838</td>\n",
       "      <td>1</td>\n",
       "      <td>247</td>\n",
       "      <td>NaN</td>\n",
       "    </tr>\n",
       "    <tr>\n",
       "      <th>XMR</th>\n",
       "      <td>0.99055</td>\n",
       "      <td>3</td>\n",
       "      <td>247</td>\n",
       "      <td>NaN</td>\n",
       "    </tr>\n",
       "    <tr>\n",
       "      <th>DOGE</th>\n",
       "      <td>0.868306</td>\n",
       "      <td>3</td>\n",
       "      <td>247</td>\n",
       "      <td>NaN</td>\n",
       "    </tr>\n",
       "    <tr>\n",
       "      <th>LSK</th>\n",
       "      <td>0.859968</td>\n",
       "      <td>3</td>\n",
       "      <td>247</td>\n",
       "      <td>NaN</td>\n",
       "    </tr>\n",
       "    <tr>\n",
       "      <th>USDT</th>\n",
       "      <td>0.839161</td>\n",
       "      <td>1</td>\n",
       "      <td>160</td>\n",
       "      <td>NaN</td>\n",
       "    </tr>\n",
       "    <tr>\n",
       "      <th>GNT</th>\n",
       "      <td>0.828932</td>\n",
       "      <td>2</td>\n",
       "      <td>214</td>\n",
       "      <td>NaN</td>\n",
       "    </tr>\n",
       "    <tr>\n",
       "      <th>XEM</th>\n",
       "      <td>0.824103</td>\n",
       "      <td>1</td>\n",
       "      <td>247</td>\n",
       "      <td>NaN</td>\n",
       "    </tr>\n",
       "    <tr>\n",
       "      <th>BCN</th>\n",
       "      <td>0.821398</td>\n",
       "      <td>3</td>\n",
       "      <td>114</td>\n",
       "      <td>NaN</td>\n",
       "    </tr>\n",
       "    <tr>\n",
       "      <th>GNO</th>\n",
       "      <td>0.738698</td>\n",
       "      <td>4</td>\n",
       "      <td>127</td>\n",
       "      <td>NaN</td>\n",
       "    </tr>\n",
       "    <tr>\n",
       "      <th>DGB</th>\n",
       "      <td>0.727384</td>\n",
       "      <td>2</td>\n",
       "      <td>107</td>\n",
       "      <td>NaN</td>\n",
       "    </tr>\n",
       "    <tr>\n",
       "      <th>KMD</th>\n",
       "      <td>0.684352</td>\n",
       "      <td>2</td>\n",
       "      <td>214</td>\n",
       "      <td>NaN</td>\n",
       "    </tr>\n",
       "    <tr>\n",
       "      <th>STRAT</th>\n",
       "      <td>0.552124</td>\n",
       "      <td>3</td>\n",
       "      <td>100</td>\n",
       "      <td>NaN</td>\n",
       "    </tr>\n",
       "    <tr>\n",
       "      <th>BCC</th>\n",
       "      <td>0.367418</td>\n",
       "      <td>1</td>\n",
       "      <td>51</td>\n",
       "      <td>NaN</td>\n",
       "    </tr>\n",
       "    <tr>\n",
       "      <th>BCH</th>\n",
       "      <td>NaN</td>\n",
       "      <td>NaN</td>\n",
       "      <td>NaN</td>\n",
       "      <td>NaN</td>\n",
       "    </tr>\n",
       "    <tr>\n",
       "      <th>REP</th>\n",
       "      <td>NaN</td>\n",
       "      <td>NaN</td>\n",
       "      <td>NaN</td>\n",
       "      <td>NaN</td>\n",
       "    </tr>\n",
       "    <tr>\n",
       "      <th>XLM</th>\n",
       "      <td>NaN</td>\n",
       "      <td>NaN</td>\n",
       "      <td>NaN</td>\n",
       "      <td>NaN</td>\n",
       "    </tr>\n",
       "    <tr>\n",
       "      <th>BAT</th>\n",
       "      <td>NaN</td>\n",
       "      <td>NaN</td>\n",
       "      <td>NaN</td>\n",
       "      <td>NaN</td>\n",
       "    </tr>\n",
       "    <tr>\n",
       "      <th>EOS</th>\n",
       "      <td>NaN</td>\n",
       "      <td>NaN</td>\n",
       "      <td>NaN</td>\n",
       "      <td>NaN</td>\n",
       "    </tr>\n",
       "    <tr>\n",
       "      <th>FCT</th>\n",
       "      <td>NaN</td>\n",
       "      <td>NaN</td>\n",
       "      <td>NaN</td>\n",
       "      <td>NaN</td>\n",
       "    </tr>\n",
       "    <tr>\n",
       "      <th>DGD</th>\n",
       "      <td>NaN</td>\n",
       "      <td>NaN</td>\n",
       "      <td>NaN</td>\n",
       "      <td>NaN</td>\n",
       "    </tr>\n",
       "    <tr>\n",
       "      <th>QTUM</th>\n",
       "      <td>NaN</td>\n",
       "      <td>NaN</td>\n",
       "      <td>NaN</td>\n",
       "      <td>NaN</td>\n",
       "    </tr>\n",
       "    <tr>\n",
       "      <th>CVC</th>\n",
       "      <td>NaN</td>\n",
       "      <td>NaN</td>\n",
       "      <td>NaN</td>\n",
       "      <td>NaN</td>\n",
       "    </tr>\n",
       "    <tr>\n",
       "      <th>HSR</th>\n",
       "      <td>NaN</td>\n",
       "      <td>NaN</td>\n",
       "      <td>NaN</td>\n",
       "      <td>NaN</td>\n",
       "    </tr>\n",
       "    <tr>\n",
       "      <th>PPT</th>\n",
       "      <td>NaN</td>\n",
       "      <td>NaN</td>\n",
       "      <td>NaN</td>\n",
       "      <td>NaN</td>\n",
       "    </tr>\n",
       "    <tr>\n",
       "      <th>DCR</th>\n",
       "      <td>NaN</td>\n",
       "      <td>NaN</td>\n",
       "      <td>NaN</td>\n",
       "      <td>NaN</td>\n",
       "    </tr>\n",
       "    <tr>\n",
       "      <th>GBYTE</th>\n",
       "      <td>NaN</td>\n",
       "      <td>NaN</td>\n",
       "      <td>NaN</td>\n",
       "      <td>NaN</td>\n",
       "    </tr>\n",
       "    <tr>\n",
       "      <th>ICN</th>\n",
       "      <td>NaN</td>\n",
       "      <td>NaN</td>\n",
       "      <td>NaN</td>\n",
       "      <td>NaN</td>\n",
       "    </tr>\n",
       "    <tr>\n",
       "      <th>ZRX</th>\n",
       "      <td>NaN</td>\n",
       "      <td>NaN</td>\n",
       "      <td>NaN</td>\n",
       "      <td>NaN</td>\n",
       "    </tr>\n",
       "    <tr>\n",
       "      <th>MCAP</th>\n",
       "      <td>NaN</td>\n",
       "      <td>NaN</td>\n",
       "      <td>NaN</td>\n",
       "      <td>NaN</td>\n",
       "    </tr>\n",
       "    <tr>\n",
       "      <th>MIOTA</th>\n",
       "      <td>NaN</td>\n",
       "      <td>NaN</td>\n",
       "      <td>NaN</td>\n",
       "      <td>NaN</td>\n",
       "    </tr>\n",
       "    <tr>\n",
       "      <th>MTL</th>\n",
       "      <td>NaN</td>\n",
       "      <td>NaN</td>\n",
       "      <td>NaN</td>\n",
       "      <td>NaN</td>\n",
       "    </tr>\n",
       "    <tr>\n",
       "      <th>VERI</th>\n",
       "      <td>NaN</td>\n",
       "      <td>NaN</td>\n",
       "      <td>NaN</td>\n",
       "      <td>NaN</td>\n",
       "    </tr>\n",
       "    <tr>\n",
       "      <th>BTCD</th>\n",
       "      <td>NaN</td>\n",
       "      <td>NaN</td>\n",
       "      <td>NaN</td>\n",
       "      <td>NaN</td>\n",
       "    </tr>\n",
       "    <tr>\n",
       "      <th>OMG</th>\n",
       "      <td>NaN</td>\n",
       "      <td>NaN</td>\n",
       "      <td>NaN</td>\n",
       "      <td>NaN</td>\n",
       "    </tr>\n",
       "    <tr>\n",
       "      <th>BTS</th>\n",
       "      <td>NaN</td>\n",
       "      <td>NaN</td>\n",
       "      <td>NaN</td>\n",
       "      <td>NaN</td>\n",
       "    </tr>\n",
       "    <tr>\n",
       "      <th>PIVX</th>\n",
       "      <td>NaN</td>\n",
       "      <td>NaN</td>\n",
       "      <td>NaN</td>\n",
       "      <td>NaN</td>\n",
       "    </tr>\n",
       "    <tr>\n",
       "      <th>MAID</th>\n",
       "      <td>NaN</td>\n",
       "      <td>NaN</td>\n",
       "      <td>NaN</td>\n",
       "      <td>NaN</td>\n",
       "    </tr>\n",
       "    <tr>\n",
       "      <th>BTC</th>\n",
       "      <td>NaN</td>\n",
       "      <td>NaN</td>\n",
       "      <td>NaN</td>\n",
       "      <td>NaN</td>\n",
       "    </tr>\n",
       "    <tr>\n",
       "      <th>WAVES</th>\n",
       "      <td>NaN</td>\n",
       "      <td>NaN</td>\n",
       "      <td>NaN</td>\n",
       "      <td>NaN</td>\n",
       "    </tr>\n",
       "  </tbody>\n",
       "</table>\n",
       "</div>"
      ],
      "text/plain": [
       "      total_return trading_times trading_available_days return_per_day\n",
       "LTC        5.22067             6                    247            NaN\n",
       "ETH        2.57199             4                    247            NaN\n",
       "XRP        2.27711             3                    156            NaN\n",
       "STEEM      1.86581             3                    247            NaN\n",
       "ETC        1.64737             2                    247            NaN\n",
       "SC         1.55502             2                    107            NaN\n",
       "PAY        1.52855             1                     79            NaN\n",
       "ARK        1.46083             1                    167            NaN\n",
       "ZEC        1.34344             3                    247            NaN\n",
       "NXS        1.28492             1                    247            NaN\n",
       "DASH       1.25686             1                    247            NaN\n",
       "NEO        1.24838             1                    247            NaN\n",
       "XMR        0.99055             3                    247            NaN\n",
       "DOGE      0.868306             3                    247            NaN\n",
       "LSK       0.859968             3                    247            NaN\n",
       "USDT      0.839161             1                    160            NaN\n",
       "GNT       0.828932             2                    214            NaN\n",
       "XEM       0.824103             1                    247            NaN\n",
       "BCN       0.821398             3                    114            NaN\n",
       "GNO       0.738698             4                    127            NaN\n",
       "DGB       0.727384             2                    107            NaN\n",
       "KMD       0.684352             2                    214            NaN\n",
       "STRAT     0.552124             3                    100            NaN\n",
       "BCC       0.367418             1                     51            NaN\n",
       "BCH            NaN           NaN                    NaN            NaN\n",
       "REP            NaN           NaN                    NaN            NaN\n",
       "XLM            NaN           NaN                    NaN            NaN\n",
       "BAT            NaN           NaN                    NaN            NaN\n",
       "EOS            NaN           NaN                    NaN            NaN\n",
       "FCT            NaN           NaN                    NaN            NaN\n",
       "DGD            NaN           NaN                    NaN            NaN\n",
       "QTUM           NaN           NaN                    NaN            NaN\n",
       "CVC            NaN           NaN                    NaN            NaN\n",
       "HSR            NaN           NaN                    NaN            NaN\n",
       "PPT            NaN           NaN                    NaN            NaN\n",
       "DCR            NaN           NaN                    NaN            NaN\n",
       "GBYTE          NaN           NaN                    NaN            NaN\n",
       "ICN            NaN           NaN                    NaN            NaN\n",
       "ZRX            NaN           NaN                    NaN            NaN\n",
       "MCAP           NaN           NaN                    NaN            NaN\n",
       "MIOTA          NaN           NaN                    NaN            NaN\n",
       "MTL            NaN           NaN                    NaN            NaN\n",
       "VERI           NaN           NaN                    NaN            NaN\n",
       "BTCD           NaN           NaN                    NaN            NaN\n",
       "OMG            NaN           NaN                    NaN            NaN\n",
       "BTS            NaN           NaN                    NaN            NaN\n",
       "PIVX           NaN           NaN                    NaN            NaN\n",
       "MAID           NaN           NaN                    NaN            NaN\n",
       "BTC            NaN           NaN                    NaN            NaN\n",
       "WAVES          NaN           NaN                    NaN            NaN"
      ]
     },
     "execution_count": 724,
     "metadata": {},
     "output_type": "execute_result"
    }
   ],
   "source": [
    "data_aggregate.sort_values('total_return',ascending=False)"
   ]
  },
  {
   "cell_type": "code",
   "execution_count": null,
   "metadata": {
    "collapsed": true
   },
   "outputs": [],
   "source": []
  },
  {
   "cell_type": "code",
   "execution_count": null,
   "metadata": {
    "collapsed": true
   },
   "outputs": [],
   "source": []
  },
  {
   "cell_type": "code",
   "execution_count": null,
   "metadata": {
    "collapsed": true
   },
   "outputs": [],
   "source": []
  }
 ],
 "metadata": {
  "kernelspec": {
   "display_name": "Python 2",
   "language": "python",
   "name": "python2"
  },
  "language_info": {
   "codemirror_mode": {
    "name": "ipython",
    "version": 2
   },
   "file_extension": ".py",
   "mimetype": "text/x-python",
   "name": "python",
   "nbconvert_exporter": "python",
   "pygments_lexer": "ipython2",
   "version": "2.7.10"
  }
 },
 "nbformat": 4,
 "nbformat_minor": 2
}
